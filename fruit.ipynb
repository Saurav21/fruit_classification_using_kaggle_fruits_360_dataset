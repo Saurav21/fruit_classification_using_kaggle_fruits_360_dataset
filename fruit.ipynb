{
  "nbformat": 4,
  "nbformat_minor": 0,
  "metadata": {
    "colab": {
      "name": "fruit.ipynb",
      "provenance": []
    },
    "kernelspec": {
      "name": "python3",
      "display_name": "Python 3"
    },
    "language_info": {
      "name": "python"
    },
    "accelerator": "GPU"
  },
  "cells": [
    {
      "cell_type": "code",
      "metadata": {
        "colab": {
          "base_uri": "https://localhost:8080/"
        },
        "id": "9JPcY0ChYyIN",
        "outputId": "66cc1d0c-7dd4-476e-a686-6a0fd9d6b659"
      },
      "source": [
        "! nvidia-smi"
      ],
      "execution_count": 1,
      "outputs": [
        {
          "output_type": "stream",
          "name": "stdout",
          "text": [
            "Mon Nov  8 07:30:20 2021       \n",
            "+-----------------------------------------------------------------------------+\n",
            "| NVIDIA-SMI 495.44       Driver Version: 460.32.03    CUDA Version: 11.2     |\n",
            "|-------------------------------+----------------------+----------------------+\n",
            "| GPU  Name        Persistence-M| Bus-Id        Disp.A | Volatile Uncorr. ECC |\n",
            "| Fan  Temp  Perf  Pwr:Usage/Cap|         Memory-Usage | GPU-Util  Compute M. |\n",
            "|                               |                      |               MIG M. |\n",
            "|===============================+======================+======================|\n",
            "|   0  Tesla K80           Off  | 00000000:00:04.0 Off |                    0 |\n",
            "| N/A   58C    P8    33W / 149W |      0MiB / 11441MiB |      0%      Default |\n",
            "|                               |                      |                  N/A |\n",
            "+-------------------------------+----------------------+----------------------+\n",
            "                                                                               \n",
            "+-----------------------------------------------------------------------------+\n",
            "| Processes:                                                                  |\n",
            "|  GPU   GI   CI        PID   Type   Process name                  GPU Memory |\n",
            "|        ID   ID                                                   Usage      |\n",
            "|=============================================================================|\n",
            "|  No running processes found                                                 |\n",
            "+-----------------------------------------------------------------------------+\n"
          ]
        }
      ]
    },
    {
      "cell_type": "code",
      "metadata": {
        "id": "ZwPQbv2_cbHW"
      },
      "source": [
        "from google.colab import files\n",
        "files.upload()"
      ],
      "execution_count": null,
      "outputs": []
    },
    {
      "cell_type": "code",
      "metadata": {
        "id": "OEp-dUCBrRlk"
      },
      "source": [
        "! mkdir ~/.kaggle"
      ],
      "execution_count": 3,
      "outputs": []
    },
    {
      "cell_type": "code",
      "metadata": {
        "id": "j5NQUZwFrRoy"
      },
      "source": [
        "! cp kaggle.json ~/.kaggle"
      ],
      "execution_count": 4,
      "outputs": []
    },
    {
      "cell_type": "code",
      "metadata": {
        "id": "IEFirQaHrRtL"
      },
      "source": [
        "! chmod 600 ~/.kaggle/kaggle.json"
      ],
      "execution_count": 5,
      "outputs": []
    },
    {
      "cell_type": "code",
      "metadata": {
        "colab": {
          "base_uri": "https://localhost:8080/"
        },
        "id": "Bkoc5eFYrRwV",
        "outputId": "7c9cfac1-eedc-4268-abd6-e45693fa10c9"
      },
      "source": [
        "! kaggle datasets download -d moltean/fruits"
      ],
      "execution_count": 6,
      "outputs": [
        {
          "output_type": "stream",
          "name": "stdout",
          "text": [
            "Downloading fruits.zip to /content\n",
            " 99% 1.27G/1.28G [00:08<00:00, 174MB/s]\n",
            "100% 1.28G/1.28G [00:08<00:00, 159MB/s]\n"
          ]
        }
      ]
    },
    {
      "cell_type": "code",
      "metadata": {
        "id": "hhh3YksnrN_l"
      },
      "source": [
        "import zipfile\n",
        "\n",
        "unzip = zipfile.ZipFile(\"fruits.zip\",\"r\")\n",
        "unzip.extractall()\n",
        "unzip.close()"
      ],
      "execution_count": 7,
      "outputs": []
    },
    {
      "cell_type": "code",
      "metadata": {
        "id": "UOF6a5xqs6I6"
      },
      "source": [
        "# training and testing dataset\n",
        "\n",
        "train_dir = \"/content/fruits-360_dataset/fruits-360/Training\"\n",
        "test_dir = \"/content/fruits-360_dataset/fruits-360/Test\"\n"
      ],
      "execution_count": 8,
      "outputs": []
    },
    {
      "cell_type": "code",
      "metadata": {
        "id": "tVwv2SAHtATJ"
      },
      "source": [
        "# processing the dataset\n",
        "import tensorflow as tf\n",
        "\n",
        "train_gen = tf.keras.preprocessing.image.ImageDataGenerator(rescale= 1/255.)\n",
        "\n",
        "test_gen = tf.keras.preprocessing.image.ImageDataGenerator(rescale= 1/255.)\n"
      ],
      "execution_count": 9,
      "outputs": []
    },
    {
      "cell_type": "code",
      "metadata": {
        "colab": {
          "base_uri": "https://localhost:8080/"
        },
        "id": "-PtmQXiCtAWP",
        "outputId": "aea31e03-d68e-4d53-ce3a-ab49ff9f1b81"
      },
      "source": [
        "train_data = train_gen.flow_from_directory(train_dir,\n",
        "                                           target_size = (224,224),\n",
        "                                           class_mode=\"categorical\",\n",
        "                                           batch_size = 32\n",
        "                                           )\n",
        "test_data = test_gen.flow_from_directory(test_dir,\n",
        "                                         target_size = (224,224),\n",
        "                                         class_mode = \"categorical\",\n",
        "                                         batch_size = 32\n",
        "                                         )"
      ],
      "execution_count": 10,
      "outputs": [
        {
          "output_type": "stream",
          "name": "stdout",
          "text": [
            "Found 67692 images belonging to 131 classes.\n",
            "Found 22688 images belonging to 131 classes.\n"
          ]
        }
      ]
    },
    {
      "cell_type": "code",
      "metadata": {
        "colab": {
          "base_uri": "https://localhost:8080/"
        },
        "id": "4sHJ6kHExUdB",
        "outputId": "77e1438a-ba38-4eed-d469-5e3582899d55"
      },
      "source": [
        "train_data.classes"
      ],
      "execution_count": 11,
      "outputs": [
        {
          "output_type": "execute_result",
          "data": {
            "text/plain": [
              "array([  0,   0,   0, ..., 130, 130, 130], dtype=int32)"
            ]
          },
          "metadata": {},
          "execution_count": 11
        }
      ]
    },
    {
      "cell_type": "code",
      "metadata": {
        "id": "da0FuBT7tAZR"
      },
      "source": [
        "# building a CNN model\n",
        "import tensorflow as tf\n",
        "from tensorflow.keras import layers\n",
        "\n",
        "\n",
        "model = tf.keras.Sequential([\n",
        "                             layers.Conv2D(filters= 128, kernel_size= 3, activation=\"relu\",input_shape=(224,224,3)),\n",
        "                             layers.Dropout(0.2),\n",
        "                             layers.Conv2D(filters = 128, kernel_size= 3, activation=\"relu\"),\n",
        "                             layers.Dropout(0.2),\n",
        "                             layers.Conv2D(filters = 64, kernel_size= 2, activation= \"relu\"),\n",
        "                             layers.Dropout(0.2),\n",
        "                             layers.Conv2D(filters= 64, kernel_size= 2, activation= \"relu\"),\n",
        "                             layers.MaxPool2D(pool_size= 2),\n",
        "                             layers.Flatten(),\n",
        "\n",
        "                             layers.Dense(131, activation=\"softmax\")\n",
        "\n",
        "])\n"
      ],
      "execution_count": 12,
      "outputs": []
    },
    {
      "cell_type": "code",
      "metadata": {
        "colab": {
          "base_uri": "https://localhost:8080/"
        },
        "id": "ZTKZ6ISytAcC",
        "outputId": "74030270-a4fc-47e4-f203-b5cb7935a4b4"
      },
      "source": [
        "model.summary()"
      ],
      "execution_count": 13,
      "outputs": [
        {
          "output_type": "stream",
          "name": "stdout",
          "text": [
            "Model: \"sequential\"\n",
            "_________________________________________________________________\n",
            "Layer (type)                 Output Shape              Param #   \n",
            "=================================================================\n",
            "conv2d (Conv2D)              (None, 222, 222, 128)     3584      \n",
            "_________________________________________________________________\n",
            "dropout (Dropout)            (None, 222, 222, 128)     0         \n",
            "_________________________________________________________________\n",
            "conv2d_1 (Conv2D)            (None, 220, 220, 128)     147584    \n",
            "_________________________________________________________________\n",
            "dropout_1 (Dropout)          (None, 220, 220, 128)     0         \n",
            "_________________________________________________________________\n",
            "conv2d_2 (Conv2D)            (None, 219, 219, 64)      32832     \n",
            "_________________________________________________________________\n",
            "dropout_2 (Dropout)          (None, 219, 219, 64)      0         \n",
            "_________________________________________________________________\n",
            "conv2d_3 (Conv2D)            (None, 218, 218, 64)      16448     \n",
            "_________________________________________________________________\n",
            "max_pooling2d (MaxPooling2D) (None, 109, 109, 64)      0         \n",
            "_________________________________________________________________\n",
            "flatten (Flatten)            (None, 760384)            0         \n",
            "_________________________________________________________________\n",
            "dense (Dense)                (None, 131)               99610435  \n",
            "=================================================================\n",
            "Total params: 99,810,883\n",
            "Trainable params: 99,810,883\n",
            "Non-trainable params: 0\n",
            "_________________________________________________________________\n"
          ]
        }
      ]
    },
    {
      "cell_type": "code",
      "metadata": {
        "id": "Sc3MgS7etAey"
      },
      "source": [
        "# compiling the model\n",
        "\n",
        "model.compile(\n",
        "    loss = tf.keras.losses.categorical_crossentropy,\n",
        "    optimizer = tf.keras.optimizers.Adam(learning_rate= 0.001),\n",
        "    metrics = [\"accuracy\"]\n",
        ")"
      ],
      "execution_count": 14,
      "outputs": []
    },
    {
      "cell_type": "code",
      "metadata": {
        "colab": {
          "base_uri": "https://localhost:8080/"
        },
        "id": "AZAnHF6itAho",
        "outputId": "056a785e-ce0b-4df8-eeae-d9c013659519"
      },
      "source": [
        "# fitting the data to the model\n",
        "\n",
        "model.fit(train_data,\n",
        "          epochs = 1,\n",
        "          steps_per_epoch = len(train_data),\n",
        "          validation_data = test_data,\n",
        "          validation_steps = len(test_data)\n",
        "          )"
      ],
      "execution_count": 15,
      "outputs": [
        {
          "output_type": "stream",
          "name": "stdout",
          "text": [
            "2116/2116 [==============================] - 3602s 2s/step - loss: 0.7207 - accuracy: 0.8446 - val_loss: 0.5298 - val_accuracy: 0.8911\n"
          ]
        },
        {
          "output_type": "execute_result",
          "data": {
            "text/plain": [
              "<keras.callbacks.History at 0x7fab9916a9d0>"
            ]
          },
          "metadata": {},
          "execution_count": 15
        }
      ]
    },
    {
      "cell_type": "code",
      "metadata": {
        "id": "LHucbTvd0FGL",
        "colab": {
          "base_uri": "https://localhost:8080/"
        },
        "outputId": "eb364bff-5fcb-487b-d9dd-3768b6d9f4d0"
      },
      "source": [
        "model_evaluation = model.evaluate(test_data)"
      ],
      "execution_count": 16,
      "outputs": [
        {
          "output_type": "stream",
          "name": "stdout",
          "text": [
            "709/709 [==============================] - 286s 403ms/step - loss: 0.5298 - accuracy: 0.8911\n"
          ]
        }
      ]
    },
    {
      "cell_type": "code",
      "metadata": {
        "id": "PPLb9zVc40Sq",
        "colab": {
          "base_uri": "https://localhost:8080/"
        },
        "outputId": "7bd1975e-d024-4515-9da1-d5757861ce44"
      },
      "source": [
        "print(f\"CNN Model Accuracy: {model_evaluation[1] *100: 0.2f}%\")"
      ],
      "execution_count": 17,
      "outputs": [
        {
          "output_type": "stream",
          "name": "stdout",
          "text": [
            "CNN Model Accuracy:  89.11%\n"
          ]
        }
      ]
    },
    {
      "cell_type": "code",
      "metadata": {
        "colab": {
          "base_uri": "https://localhost:8080/"
        },
        "id": "Pr491QwP0FJa",
        "outputId": "2728e583-1c8b-49d5-9c8a-e944dc73f48a"
      },
      "source": [
        "# Building a model in resnet with transfer learning\n",
        "import tensorflow as tf\n",
        "\n",
        "base_model = tf.keras.applications.ResNet50V2(include_top= False, weights= \"imagenet\")"
      ],
      "execution_count": 18,
      "outputs": [
        {
          "output_type": "stream",
          "name": "stdout",
          "text": [
            "Downloading data from https://storage.googleapis.com/tensorflow/keras-applications/resnet/resnet50v2_weights_tf_dim_ordering_tf_kernels_notop.h5\n",
            "94674944/94668760 [==============================] - 1s 0us/step\n",
            "94683136/94668760 [==============================] - 1s 0us/step\n"
          ]
        }
      ]
    },
    {
      "cell_type": "code",
      "metadata": {
        "id": "ceB5KXcG0FMp"
      },
      "source": [
        "import tensorflow as tf\n",
        "from tensorflow.keras import layers\n",
        "\n",
        "for layer in base_model.layers[:-5]:\n",
        "  base_model.trainable = False\n",
        "\n",
        "\n",
        "\n"
      ],
      "execution_count": 19,
      "outputs": []
    },
    {
      "cell_type": "code",
      "metadata": {
        "id": "vOLwy8wL0FP2"
      },
      "source": [
        "inputs = tf.keras.Input(shape=(224,224,3))\n",
        "x = base_model(inputs)\n",
        "x = layers.GlobalAveragePooling2D()(x)\n",
        "\n",
        "outputs = layers.Dense(131, activation=\"softmax\")(x)\n",
        "\n",
        "resnet_model = tf.keras.Model(inputs,outputs)"
      ],
      "execution_count": 20,
      "outputs": []
    },
    {
      "cell_type": "code",
      "metadata": {
        "colab": {
          "base_uri": "https://localhost:8080/"
        },
        "id": "oLthiy_fxgcB",
        "outputId": "42a2f5a8-e5c6-438d-e36a-d5c7148bd43f"
      },
      "source": [
        "resnet_model.summary()"
      ],
      "execution_count": 32,
      "outputs": [
        {
          "output_type": "stream",
          "name": "stdout",
          "text": [
            "Model: \"model\"\n",
            "_________________________________________________________________\n",
            "Layer (type)                 Output Shape              Param #   \n",
            "=================================================================\n",
            "input_2 (InputLayer)         [(None, 224, 224, 3)]     0         \n",
            "_________________________________________________________________\n",
            "resnet50v2 (Functional)      (None, None, None, 2048)  23564800  \n",
            "_________________________________________________________________\n",
            "global_average_pooling2d (Gl (None, 2048)              0         \n",
            "_________________________________________________________________\n",
            "dense_1 (Dense)              (None, 131)               268419    \n",
            "=================================================================\n",
            "Total params: 23,833,219\n",
            "Trainable params: 268,419\n",
            "Non-trainable params: 23,564,800\n",
            "_________________________________________________________________\n"
          ]
        }
      ]
    },
    {
      "cell_type": "code",
      "metadata": {
        "id": "tVrmqnVm0FUH"
      },
      "source": [
        "# compiling the resnet model\n",
        "\n",
        "resnet_model.compile(\n",
        "    loss = tf.keras.losses.categorical_crossentropy,\n",
        "    optimizer= tf.keras.optimizers.Adam(learning_rate= 0.001),\n",
        "    metrics = [\"accuracy\"]\n",
        ")"
      ],
      "execution_count": 21,
      "outputs": []
    },
    {
      "cell_type": "code",
      "metadata": {
        "colab": {
          "base_uri": "https://localhost:8080/"
        },
        "id": "o1CLSlFA0FVo",
        "outputId": "401cc5e8-1c63-4cc5-b90d-0d52ba2e210a"
      },
      "source": [
        "# fitting the model\n",
        "\n",
        "resnet_model.fit(train_data,\n",
        "                 epochs = 1,\n",
        "                 steps_per_epoch= len(train_data),\n",
        "                #  validation_data = test_data,\n",
        "                #  validation_steps = len(test_data)\n",
        "                 )"
      ],
      "execution_count": 22,
      "outputs": [
        {
          "output_type": "stream",
          "name": "stdout",
          "text": [
            "2116/2116 [==============================] - 431s 202ms/step - loss: 0.1859 - accuracy: 0.9717\n"
          ]
        },
        {
          "output_type": "execute_result",
          "data": {
            "text/plain": [
              "<keras.callbacks.History at 0x7faaabe6fed0>"
            ]
          },
          "metadata": {},
          "execution_count": 22
        }
      ]
    },
    {
      "cell_type": "code",
      "metadata": {
        "id": "PJQTv2YG0FYC",
        "colab": {
          "base_uri": "https://localhost:8080/"
        },
        "outputId": "22b116e4-8690-4b53-a9cf-c866dddc2335"
      },
      "source": [
        "resent_model_evaluate = resnet_model.evaluate(test_data)"
      ],
      "execution_count": 23,
      "outputs": [
        {
          "output_type": "stream",
          "name": "stdout",
          "text": [
            "709/709 [==============================] - 144s 201ms/step - loss: 0.1391 - accuracy: 0.9635\n"
          ]
        }
      ]
    },
    {
      "cell_type": "code",
      "metadata": {
        "id": "xi_ZPOcs0Fak",
        "colab": {
          "base_uri": "https://localhost:8080/"
        },
        "outputId": "24c0d618-03e0-491d-ea6b-e1f6b9a4b99d"
      },
      "source": [
        "print(f\"Resnet Model Accuracy: {resent_model_evaluate[1] * 100: 0.2f}%\")"
      ],
      "execution_count": 25,
      "outputs": [
        {
          "output_type": "stream",
          "name": "stdout",
          "text": [
            "Resnet Model Accuracy:  96.35%\n"
          ]
        }
      ]
    },
    {
      "cell_type": "code",
      "metadata": {
        "colab": {
          "base_uri": "https://localhost:8080/"
        },
        "id": "6WbFWaxRyX94",
        "outputId": "9dd0cafa-afc2-4bee-e0d2-582d73a71630"
      },
      "source": [
        "# preparing data for efficientnet\n",
        "import tensorflow as tf\n",
        "train_data_eff = tf.keras.preprocessing.image_dataset_from_directory(train_dir,\n",
        "                                                                     label_mode = \"categorical\",\n",
        "                                                                     image_size = (224,224),\n",
        "                                                                     batch_size = 32\n",
        "                                                                     )\n",
        "test_data_eff = tf.keras.preprocessing.image_dataset_from_directory(test_dir,\n",
        "                                                                    label_mode = \"categorical\",\n",
        "                                                                    image_size = (224,224),\n",
        "                                                                    batch_size = 32\n",
        "                                                                    )"
      ],
      "execution_count": 37,
      "outputs": [
        {
          "output_type": "stream",
          "name": "stdout",
          "text": [
            "Found 67692 files belonging to 131 classes.\n",
            "Found 22688 files belonging to 131 classes.\n"
          ]
        }
      ]
    },
    {
      "cell_type": "code",
      "metadata": {
        "id": "EwssLg4-0FdL",
        "colab": {
          "base_uri": "https://localhost:8080/"
        },
        "outputId": "c84d6fc5-321a-4b57-b687-04d77808f318"
      },
      "source": [
        "# building efficientnetB3 model\n",
        "import tensorflow as tf\n",
        "\n",
        "\n",
        "eff_model = tf.keras.applications.EfficientNetB3(include_top= False, weights= \"imagenet\")\n",
        "\n"
      ],
      "execution_count": 26,
      "outputs": [
        {
          "output_type": "stream",
          "name": "stdout",
          "text": [
            "Downloading data from https://storage.googleapis.com/keras-applications/efficientnetb3_notop.h5\n",
            "43941888/43941136 [==============================] - 1s 0us/step\n",
            "43950080/43941136 [==============================] - 1s 0us/step\n"
          ]
        }
      ]
    },
    {
      "cell_type": "code",
      "metadata": {
        "id": "3luoCapKtAkT"
      },
      "source": [
        "import tensorflow as tf\n",
        "from tensorflow.keras import layers\n",
        "\n",
        "for layer in eff_model.layers[:-5]:\n",
        "  eff_model.trainable = False\n",
        "\n",
        "\n"
      ],
      "execution_count": 27,
      "outputs": []
    },
    {
      "cell_type": "code",
      "metadata": {
        "id": "t4rkn1GWaaWD"
      },
      "source": [
        "inputs = tf.keras.Input(shape=(224,224,3))\n",
        "\n",
        "x = eff_model(inputs)\n",
        "x = layers.GlobalAveragePooling2D()(x)\n",
        "x = layers.Dropout(0.2)(x)\n",
        "x = layers.Dense(128, activation=\"relu\")(x)\n",
        "outputs = layers.Dense(131, activation=\"softmax\")(x)\n",
        "\n",
        "model_efficient = tf.keras.Model(inputs,outputs)"
      ],
      "execution_count": 33,
      "outputs": []
    },
    {
      "cell_type": "code",
      "metadata": {
        "colab": {
          "base_uri": "https://localhost:8080/"
        },
        "id": "Jo_oeQnqaaTa",
        "outputId": "07a1e5af-fdfa-41c9-a3d6-120b639e2ec1"
      },
      "source": [
        "model_efficient.summary()"
      ],
      "execution_count": 34,
      "outputs": [
        {
          "output_type": "stream",
          "name": "stdout",
          "text": [
            "Model: \"model_2\"\n",
            "_________________________________________________________________\n",
            "Layer (type)                 Output Shape              Param #   \n",
            "=================================================================\n",
            "input_5 (InputLayer)         [(None, 224, 224, 3)]     0         \n",
            "_________________________________________________________________\n",
            "efficientnetb3 (Functional)  (None, None, None, 1536)  10783535  \n",
            "_________________________________________________________________\n",
            "global_average_pooling2d_2 ( (None, 1536)              0         \n",
            "_________________________________________________________________\n",
            "dropout_3 (Dropout)          (None, 1536)              0         \n",
            "_________________________________________________________________\n",
            "dense_3 (Dense)              (None, 128)               196736    \n",
            "_________________________________________________________________\n",
            "dense_4 (Dense)              (None, 131)               16899     \n",
            "=================================================================\n",
            "Total params: 10,997,170\n",
            "Trainable params: 213,635\n",
            "Non-trainable params: 10,783,535\n",
            "_________________________________________________________________\n"
          ]
        }
      ]
    },
    {
      "cell_type": "code",
      "metadata": {
        "id": "4hJVWPsMaaQZ"
      },
      "source": [
        "# compiling the model\n",
        "\n",
        "model_efficient.compile(\n",
        "    loss = tf.keras.losses.categorical_crossentropy,\n",
        "    optimizer= tf.keras.optimizers.Adam(learning_rate=0.001),\n",
        "    metrics= [\"accuracy\"]\n",
        ")"
      ],
      "execution_count": 35,
      "outputs": []
    },
    {
      "cell_type": "code",
      "metadata": {
        "colab": {
          "base_uri": "https://localhost:8080/"
        },
        "id": "cDfw5huXaaNq",
        "outputId": "2e8deedc-ef51-483b-ce9d-17bc3991d6e8"
      },
      "source": [
        "# fitting the model\n",
        "\n",
        "model_efficient.fit(\n",
        "    train_data_eff,\n",
        "    epochs = 1,\n",
        "    steps_per_epoch = len(train_data_eff),\n",
        "#     validation_data = test_data_eff,\n",
        "#     validation_steps = len(test_data_eff)\n",
        ")"
      ],
      "execution_count": 38,
      "outputs": [
        {
          "output_type": "stream",
          "name": "stdout",
          "text": [
            "2116/2116 [==============================] - 535s 250ms/step - loss: 0.1930 - accuracy: 0.9545\n"
          ]
        },
        {
          "output_type": "execute_result",
          "data": {
            "text/plain": [
              "<keras.callbacks.History at 0x7fab901b7350>"
            ]
          },
          "metadata": {},
          "execution_count": 38
        }
      ]
    },
    {
      "cell_type": "code",
      "metadata": {
        "colab": {
          "base_uri": "https://localhost:8080/"
        },
        "id": "FXHtUS53aaK5",
        "outputId": "218cd794-6721-4d0d-cdce-7f343e2637d6"
      },
      "source": [
        "model_efficient_evaluation = model_efficient.evaluate(test_data_eff)"
      ],
      "execution_count": 40,
      "outputs": [
        {
          "output_type": "stream",
          "name": "stdout",
          "text": [
            "709/709 [==============================] - 178s 247ms/step - loss: 0.1157 - accuracy: 0.9716\n"
          ]
        }
      ]
    },
    {
      "cell_type": "code",
      "metadata": {
        "colab": {
          "base_uri": "https://localhost:8080/"
        },
        "id": "Ac_bfCEEaaIB",
        "outputId": "ed4c2ca4-0e23-4634-ee66-abef5efa43c8"
      },
      "source": [
        "print(f\"Efficient Model Accuracy: {model_efficient_evaluation[1]*100 : 0.2f}%\")"
      ],
      "execution_count": 41,
      "outputs": [
        {
          "output_type": "stream",
          "name": "stdout",
          "text": [
            "Efficient Model Accuracy:  97.16%\n"
          ]
        }
      ]
    },
    {
      "cell_type": "code",
      "metadata": {
        "id": "O5kYZZqTaaFJ"
      },
      "source": [
        ""
      ],
      "execution_count": null,
      "outputs": []
    },
    {
      "cell_type": "code",
      "metadata": {
        "id": "KPCVelxQaaCd"
      },
      "source": [
        ""
      ],
      "execution_count": null,
      "outputs": []
    },
    {
      "cell_type": "code",
      "metadata": {
        "id": "cTdZPPNKaZ_p"
      },
      "source": [
        ""
      ],
      "execution_count": null,
      "outputs": []
    },
    {
      "cell_type": "code",
      "metadata": {
        "id": "92jBUWhWaZ9I"
      },
      "source": [
        ""
      ],
      "execution_count": null,
      "outputs": []
    },
    {
      "cell_type": "code",
      "metadata": {
        "id": "olDZMQLjaZ6i"
      },
      "source": [
        ""
      ],
      "execution_count": null,
      "outputs": []
    },
    {
      "cell_type": "code",
      "metadata": {
        "id": "CvxKYT1aaZ3R"
      },
      "source": [
        ""
      ],
      "execution_count": null,
      "outputs": []
    },
    {
      "cell_type": "code",
      "metadata": {
        "id": "E0IGfhczaZ0Q"
      },
      "source": [
        ""
      ],
      "execution_count": null,
      "outputs": []
    },
    {
      "cell_type": "code",
      "metadata": {
        "id": "dBRUQU8OaZuJ"
      },
      "source": [
        ""
      ],
      "execution_count": null,
      "outputs": []
    }
  ]
}